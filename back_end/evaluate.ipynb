{
 "cells": [
  {
   "cell_type": "code",
   "execution_count": 1,
   "metadata": {},
   "outputs": [
    {
     "name": "stdout",
     "output_type": "stream",
     "text": [
      " C 드라이브의 볼륨에는 이름이 없습니다.\n",
      " 볼륨 일련 번호: 14DD-4344\n",
      "\n",
      " C:\\Users\\user\\ai-forecast\\back_end 디렉터리\n",
      "\n",
      "2020-11-18  오후 01:10    <DIR>          .\n",
      "2020-11-18  오후 01:10    <DIR>          ..\n",
      "2020-11-09  오후 03:31    <DIR>          .idea\n",
      "2020-11-18  오후 01:10    <DIR>          .ipynb_checkpoints\n",
      "2020-10-28  오후 02:38         7,471,482 AI_Sale_ver3.0.csv\n",
      "2020-11-05  오후 04:47           637,530 AI_Sale_ver3.5.csv\n",
      "2020-11-09  오후 03:41           439,264 AI_Sale_ver4.0.csv\n",
      "2020-11-09  오후 12:12    <DIR>          data\n",
      "2020-11-13  오후 05:01            20,707 data.py\n",
      "2020-11-18  오후 01:07               868 evaluate.ipynb\n",
      "2020-11-16  오후 04:36             5,102 flask_restapi.py\n",
      "2020-11-16  오후 01:28             2,153 future7_dataframe.py\n",
      "2020-11-12  오전 09:58             1,117 modeling.py\n",
      "2020-11-13  오전 11:07               981 prediction.py\n",
      "2020-11-12  오후 05:58             3,875 predictor.py\n",
      "2020-11-13  오후 02:10             6,011 testtrainer.py\n",
      "2020-11-09  오후 02:43                 0 train.py\n",
      "2020-11-13  오후 05:01             5,788 trainer.py\n",
      "2020-11-13  오후 05:01             3,910 weather2.py\n",
      "2020-11-13  오후 05:13    <DIR>          weight\n",
      "2020-11-16  오후 01:30    <DIR>          __pycache__\n",
      "              14개 파일           8,598,788 바이트\n",
      "               7개 디렉터리  130,779,537,408 바이트 남음\n"
     ]
    }
   ],
   "source": [
    "!dir"
   ]
  },
  {
   "cell_type": "code",
   "execution_count": null,
   "metadata": {},
   "outputs": [],
   "source": [
    "start_date = '2019-11-30'\n",
    "print('start_data >>>>', start_date)\n",
    "\n",
    "#     할인정보 시작\n",
    "pre_event_info = \n",
    "print('pre_event_info >>>>>>', pre_event_info)\n",
    "\n",
    "event_info = []\n",
    "for i in pre_event_info.keys():\n",
    "\n",
    "    if pre_event_info[i] == 'true':\n",
    "        event_info.append(i)\n",
    "\n",
    "print('event_info >>>>', event_info)\n",
    "#     할인정보 끝\n",
    "\n",
    "break_info = arrived_data['break_info']\n",
    "store_info = arrived_data['store_info']\n",
    "\n",
    "print('break_info >>>>', break_info)\n",
    "print('store_info>>> ', store_info)\n",
    "\n",
    "product_info = arrived_data['item_info']\n",
    "\n",
    "merged_df = date_info(start_date, event_info, break_info)\n",
    "\n",
    "startdt = datetime.strptime(start_date, \"%Y-%m-%d\")\n",
    "\n",
    "train_subtracttime = timedelta(days=1)\n",
    "\n",
    "train_date = startdt - train_subtracttime\n",
    "\n",
    "train_date = train_date.strftime('%Y-%m-%d')\n",
    "\n",
    "predict_addtime = timedelta(days=6)\n",
    "\n",
    "predict_date = startdt + predict_addtime\n",
    "\n",
    "predict_date = predict_date.strftime('%Y-%m-%d')\n",
    "print(\"training init\")\n",
    "\n",
    "ready_train = start_train(merged_df, int(store_info), product_info, train_date,\n",
    "                          predict_date)\n",
    "\n",
    "score = ready_train.trainer()"
   ]
  }
 ],
 "metadata": {
  "kernelspec": {
   "display_name": "Python 3",
   "language": "python",
   "name": "python3"
  },
  "language_info": {
   "codemirror_mode": {
    "name": "ipython",
    "version": 3
   },
   "file_extension": ".py",
   "mimetype": "text/x-python",
   "name": "python",
   "nbconvert_exporter": "python",
   "pygments_lexer": "ipython3",
   "version": "3.7.6"
  },
  "toc": {
   "base_numbering": 1,
   "nav_menu": {},
   "number_sections": false,
   "sideBar": true,
   "skip_h1_title": false,
   "title_cell": "Table of Contents",
   "title_sidebar": "Contents",
   "toc_cell": false,
   "toc_position": {},
   "toc_section_display": true,
   "toc_window_display": false
  }
 },
 "nbformat": 4,
 "nbformat_minor": 4
}
